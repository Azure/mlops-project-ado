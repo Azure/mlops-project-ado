{
  "cells": [
    {
      "cell_type": "code",
      "source": [
        "import argparse\r\n",
        "from pathlib import Path\r\n",
        "import pickle\r\n",
        "import mlflow"
      ],
      "outputs": [],
      "execution_count": 14,
      "metadata": {}
    },
    {
      "cell_type": "code",
      "source": [
        "model_name = \"taxi-model\"\r\n",
        "model_path = \"/tmp/train\"\r\n",
        "evaluation_output = \"/tmp/evaluate\""
      ],
      "outputs": [],
      "execution_count": 15,
      "metadata": {
        "jupyter": {
          "source_hidden": false,
          "outputs_hidden": false
        },
        "nteract": {
          "transient": {
            "deleting": false
          }
        }
      }
    },
    {
      "cell_type": "code",
      "source": [
        "def main(model_name, model_path, evaluation_output):\r\n",
        "    '''Loads model, registers it if deply flag is True'''\r\n",
        "\r\n",
        "    with open((Path(evaluation_output) / \"deploy_flag\"), 'rb') as infile:\r\n",
        "        deploy_flag = int(infile.read())\r\n",
        "    \r\n",
        "    mlflow.log_metric(\"deploy flag\", int(deploy_flag))\r\n",
        "    if deploy_flag==1:\r\n",
        "\r\n",
        "        print(\"Registering \", model_name)\r\n",
        "\r\n",
        "        # load model\r\n",
        "        with open((Path(model_path) / \"model.pkl\"), \"rb\") as infile:\r\n",
        "            model = pickle.load(infile)\r\n",
        "\r\n",
        "        # log model using mlflow\r\n",
        "        mlflow.sklearn.log_model(model, model_name)\r\n",
        "\r\n",
        "        # register logged model using mlflow\r\n",
        "        run_id = mlflow.active_run().info.run_id\r\n",
        "        model_uri = f'runs:/{run_id}/{model_name}'\r\n",
        "        mlflow.register_model(model_uri, model_name)\r\n",
        "\r\n",
        "    else:\r\n",
        "        print(\"Model will not be registered!\")"
      ],
      "outputs": [],
      "execution_count": 16,
      "metadata": {
        "jupyter": {
          "source_hidden": false,
          "outputs_hidden": false
        },
        "nteract": {
          "transient": {
            "deleting": false
          }
        }
      }
    },
    {
      "cell_type": "code",
      "source": [
        "mlflow.start_run()\r\n",
        "\r\n",
        "lines = [\r\n",
        "    f\"Model path: {model_path}\",\r\n",
        "    f\"Evaluation output path: {evaluation_output}\",\r\n",
        "]\r\n",
        "\r\n",
        "for line in lines:\r\n",
        "    print(line)\r\n",
        "\r\n",
        "main(model_name, model_path, evaluation_output)\r\n",
        "\r\n",
        "mlflow.end_run()"
      ],
      "outputs": [
        {
          "output_type": "stream",
          "name": "stdout",
          "text": "Model path: /tmp/train\nEvaluation output path: /tmp/evaluate\nModel will not be registered!\n"
        }
      ],
      "execution_count": 17,
      "metadata": {
        "jupyter": {
          "source_hidden": false,
          "outputs_hidden": false
        },
        "nteract": {
          "transient": {
            "deleting": false
          }
        }
      }
    }
  ],
  "metadata": {
    "kernelspec": {
      "name": "local-env",
      "language": "python",
      "display_name": "Local Env"
    },
    "language_info": {
      "name": "python",
      "version": "3.8.1",
      "mimetype": "text/x-python",
      "codemirror_mode": {
        "name": "ipython",
        "version": 3
      },
      "pygments_lexer": "ipython3",
      "nbconvert_exporter": "python",
      "file_extension": ".py"
    },
    "kernel_info": {
      "name": "local-env"
    },
    "nteract": {
      "version": "nteract-front-end@1.0.0"
    }
  },
  "nbformat": 4,
  "nbformat_minor": 0
}