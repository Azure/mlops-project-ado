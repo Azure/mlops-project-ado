{
  "cells": [
    {
      "cell_type": "code",
      "source": [
        "import argparse\r\n",
        "from pathlib import Path\r\n",
        "import pickle\r\n",
        "\r\n",
        "import mlflow\r\n",
        "\r\n",
        "from azureml.core import Workspace, Experiment, Run"
      ],
      "outputs": [],
      "execution_count": 5,
      "metadata": {}
    },
    {
      "cell_type": "code",
      "source": [
        "ws = Workspace.from_config()\r\n",
        "experiment = Experiment(workspace=ws, name=\"taxi-register\")\r\n",
        "run = experiment.start_logging()\r\n",
        "run_id = run.get_details()[\"runId\"]\r\n",
        "print(run_id)"
      ],
      "outputs": [
        {
          "output_type": "stream",
          "name": "stdout",
          "text": "6a86cc39-e93a-48ed-ac95-e101ce254593\n"
        }
      ],
      "execution_count": 6,
      "metadata": {
        "jupyter": {
          "source_hidden": false,
          "outputs_hidden": false
        },
        "nteract": {
          "transient": {
            "deleting": false
          }
        }
      }
    },
    {
      "cell_type": "code",
      "source": [
        "model_name = \"taxi-model\"\r\n",
        "model_path = \"/tmp/train\"\r\n",
        "evaluation_output = \"/tmp/evaluate\""
      ],
      "outputs": [],
      "execution_count": 7,
      "metadata": {
        "jupyter": {
          "source_hidden": false,
          "outputs_hidden": false
        },
        "nteract": {
          "transient": {
            "deleting": false
          }
        }
      }
    },
    {
      "cell_type": "code",
      "source": [
        "def main():\r\n",
        "\r\n",
        "    run_id = mlflow.active_run().info.run_id\r\n",
        "    print(run_id)\r\n",
        "\r\n",
        "    with open((Path(evaluation_output) / \"deploy_flag\"), 'rb') as f:\r\n",
        "        deploy_flag = int(f.read())\r\n",
        "\r\n",
        "    deploy_flag=1 # for testing purpose only\r\n",
        "    if deploy_flag==1:\r\n",
        "        \r\n",
        "        print(\"Registering \", model_name)\r\n",
        "\r\n",
        "        model = pickle.load(open((Path(model_path) / \"model.pkl\"), \"rb\"))\r\n",
        "        # log model using mlflow \r\n",
        "        mlflow.sklearn.log_model(model, model_name)\r\n",
        "\r\n",
        "        # register model using mlflow model\r\n",
        "        model_uri = f'runs:/{run_id}/{model_name}'\r\n",
        "        mlflow.register_model(model_uri, model_name)\r\n",
        "        \r\n",
        "    else:\r\n",
        "        print(\"Model will not be registered!\")\r\n",
        "\r\n",
        "if __name__ == \"__main__\":\r\n",
        "    main()"
      ],
      "outputs": [
        {
          "output_type": "error",
          "ename": "AttributeError",
          "evalue": "'NoneType' object has no attribute 'info'",
          "traceback": [
            "\u001b[0;31m---------------------------------------------------------------------------\u001b[0m",
            "\u001b[0;31mAttributeError\u001b[0m                            Traceback (most recent call last)",
            "Input \u001b[0;32mIn [8]\u001b[0m, in \u001b[0;36m<module>\u001b[0;34m\u001b[0m\n\u001b[1;32m     23\u001b[0m         \u001b[38;5;28mprint\u001b[39m(\u001b[38;5;124m\"\u001b[39m\u001b[38;5;124mModel will not be registered!\u001b[39m\u001b[38;5;124m\"\u001b[39m)\n\u001b[1;32m     25\u001b[0m \u001b[38;5;28;01mif\u001b[39;00m \u001b[38;5;18m__name__\u001b[39m \u001b[38;5;241m==\u001b[39m \u001b[38;5;124m\"\u001b[39m\u001b[38;5;124m__main__\u001b[39m\u001b[38;5;124m\"\u001b[39m:\n\u001b[0;32m---> 26\u001b[0m     \u001b[43mmain\u001b[49m\u001b[43m(\u001b[49m\u001b[43m)\u001b[49m\n",
            "Input \u001b[0;32mIn [8]\u001b[0m, in \u001b[0;36mmain\u001b[0;34m()\u001b[0m\n\u001b[1;32m      1\u001b[0m \u001b[38;5;28;01mdef\u001b[39;00m \u001b[38;5;21mmain\u001b[39m():\n\u001b[0;32m----> 3\u001b[0m     run_id \u001b[38;5;241m=\u001b[39m \u001b[43mmlflow\u001b[49m\u001b[38;5;241;43m.\u001b[39;49m\u001b[43mactive_run\u001b[49m\u001b[43m(\u001b[49m\u001b[43m)\u001b[49m\u001b[38;5;241;43m.\u001b[39;49m\u001b[43minfo\u001b[49m\u001b[38;5;241m.\u001b[39mrun_id\n\u001b[1;32m      4\u001b[0m     \u001b[38;5;28mprint\u001b[39m(run_id)\n\u001b[1;32m      6\u001b[0m     \u001b[38;5;28;01mwith\u001b[39;00m \u001b[38;5;28mopen\u001b[39m((Path(evaluation_output) \u001b[38;5;241m/\u001b[39m \u001b[38;5;124m\"\u001b[39m\u001b[38;5;124mdeploy_flag\u001b[39m\u001b[38;5;124m\"\u001b[39m), \u001b[38;5;124m'\u001b[39m\u001b[38;5;124mrb\u001b[39m\u001b[38;5;124m'\u001b[39m) \u001b[38;5;28;01mas\u001b[39;00m f:\n",
            "\u001b[0;31mAttributeError\u001b[0m: 'NoneType' object has no attribute 'info'"
          ]
        }
      ],
      "execution_count": 8,
      "metadata": {
        "jupyter": {
          "source_hidden": false,
          "outputs_hidden": false
        },
        "nteract": {
          "transient": {
            "deleting": false
          }
        }
      }
    }
  ],
  "metadata": {
    "kernelspec": {
      "name": "local-env",
      "language": "python",
      "display_name": "Local Env"
    },
    "language_info": {
      "name": "python",
      "version": "3.8.1",
      "mimetype": "text/x-python",
      "codemirror_mode": {
        "name": "ipython",
        "version": 3
      },
      "pygments_lexer": "ipython3",
      "nbconvert_exporter": "python",
      "file_extension": ".py"
    },
    "kernel_info": {
      "name": "local-env"
    },
    "nteract": {
      "version": "nteract-front-end@1.0.0"
    }
  },
  "nbformat": 4,
  "nbformat_minor": 0
}