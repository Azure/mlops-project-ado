{
 "cells": [
  {
   "cell_type": "markdown",
   "metadata": {},
   "source": [
    "For this workshop, you need:\n",
    "\n",
    "* An Azure Machine Learning workspace. \n",
    "* The Azure Machine Learning Python SDK v2 installed. \n",
    "\n",
    "To install the SDK you can either,\n",
    "\n",
    "Create a compute instance, which already has installed the latest AzureML Python SDK and is pre-configured for ML workflows.\n",
    "\n",
    "Use the followings commands to install Azure ML Python SDK v2:\n",
    "\n",
    "```bash\n",
    "pip install azure-ai-ml --upgrade\n",
    "```"
   ]
  },
  {
   "cell_type": "markdown",
   "metadata": {
    "nteract": {
     "transient": {
      "deleting": false
     }
    },
    "tags": []
   },
   "source": [
    "## Connect to ML Client"
   ]
  },
  {
   "cell_type": "markdown",
   "metadata": {},
   "source": [
    "To connect to a workspace, you need to provide a subscription, resource group and workspace name. These details are used in the `MLClient` from `azure.ai.ml` to get a handle to the required Azure Machine Learning workspace.\n",
    "\n",
    "In the following example, the default Azure authentication is used along with the default workspace configuration or from any `config.json` file you might have copied into the folders structure. If no `config.json` is found, then you need to manually introduce the subscription_id, resource_group and workspace when creating `MLClient`.\n",
    "\n",
    "```python\n",
    "from azure.identity import DefaultAzureCredential\n",
    "from azure.ai.ml import MLClient\n",
    "\n",
    "credential = DefaultAzureCredential()\n",
    "ml_client = None\n",
    "try:\n",
    "    ml_client = MLClient.from_config(credential)\n",
    "except Exception as ex:\n",
    "    print(ex)\n",
    "    # Enter details of your AzureML workspace\n",
    "    subscription_id = \"<SUBSCRIPTION_ID>\"\n",
    "    resource_group = \"<RESOURCE_GROUP>\"\n",
    "    workspace = \"<AZUREML_WORKSPACE_NAME>\"\n",
    "    ml_client = MLClient(credential, subscription_id, resource_group, workspace)\n",
    "```\n"
   ]
  },
  {
   "cell_type": "code",
   "execution_count": null,
   "metadata": {
    "collapsed": false,
    "gather": {
     "logged": 1668210226582
    },
    "jupyter": {
     "outputs_hidden": false,
     "source_hidden": false
    },
    "nteract": {
     "transient": {
      "deleting": false
     }
    }
   },
   "outputs": [],
   "source": [
    "from azure.identity import DefaultAzureCredential, InteractiveBrowserCredential\n",
    "from azure.ai.ml import MLClient\n",
    "\n",
    "try:\n",
    "    credential = DefaultAzureCredential()\n",
    "    # Check if given credential can get token successfully.\n",
    "    credential.get_token(\"https://management.azure.com/.default\")\n",
    "except Exception as ex:\n",
    "    # Fall back to InteractiveBrowserCredential in case DefaultAzureCredential not work\n",
    "    credential = InteractiveBrowserCredential()\n",
    "\n",
    "# Get a handle to workspace\n",
    "ml_client = MLClient.from_config(credential=credential, path=\"config.json\")"
   ]
  },
  {
   "cell_type": "markdown",
   "metadata": {
    "nteract": {
     "transient": {
      "deleting": false
     }
    },
    "tags": []
   },
   "source": [
    "# Model Training"
   ]
  },
  {
   "cell_type": "markdown",
   "metadata": {
    "nteract": {
     "transient": {
      "deleting": false
     }
    }
   },
   "source": [
    "## 1. Create Managed Compute\n",
    "\n",
    "A compute is a designated compute resource where you run your job or host your endpoint. Azure Machine learning supports the following types of compute:\n",
    "\n",
    "- **Compute instance** - a fully configured and managed development environment in the cloud. You can use the instance as a training or inference compute for development and testing. It's similar to a virtual machine on the cloud.\n",
    "\n",
    "- **Compute cluster** - a managed-compute infrastructure that allows you to easily create a cluster of CPU or GPU compute nodes in the cloud.\n",
    "\n",
    "- **Inference cluster** - used to deploy trained machine learning models to Azure Kubernetes Service. You can create an Azure Kubernetes Service (AKS) cluster from your Azure ML workspace, or attach an existing AKS cluster.\n",
    "\n",
    "- **Attached compute** - You can attach your own compute resources to your workspace and use them for training and inference.\n",
    "\n",
    "You can create a compute using the Studio, the cli and the sdk.\n",
    "\n",
    "<hr>\n",
    "\n",
    "We can create a **compute instance** with cli v2 or sdk v2 using the following syntax:\n",
    "\n",
    "<center>\n",
    "<img src=\"../../imgs/create_compute_instance.png\" width = \"700px\" alt=\"Create Compute Instance cli vs sdk\">\n",
    "</center>\n",
    "\n",
    "\n",
    "<hr>\n",
    "\n",
    "We can create a **compute cluster** with cli v2 or sdk v2 using the following syntax:\n",
    "\n",
    "<center>\n",
    "<img src=\"../../imgs/create_compute_cluster.png\" width = \"700px\" alt=\"Create Compute Instance cli vs sdk\">\n",
    "</center>\n",
    "\n",
    "\n",
    "Let's create a managed compute cluster for the training workload."
   ]
  },
  {
   "cell_type": "code",
   "execution_count": null,
   "metadata": {
    "collapsed": false,
    "gather": {
     "logged": 1668247342091
    },
    "jupyter": {
     "outputs_hidden": false,
     "source_hidden": false
    },
    "nteract": {
     "transient": {
      "deleting": false
     }
    }
   },
   "outputs": [],
   "source": [
    "# Retrieve an already attached Azure Machine Learning Compute.\n",
    "cpu_compute_target = \"cpu-cluster\"\n",
    "print(ml_client.compute.get(cpu_compute_target))\n",
    "gpu_compute_target = \"gpu-cluster\"\n",
    "print(ml_client.compute.get(gpu_compute_target))"
   ]
  },
  {
   "cell_type": "code",
   "execution_count": null,
   "metadata": {
    "collapsed": false,
    "gather": {
     "logged": 1668247356672
    },
    "jupyter": {
     "outputs_hidden": false,
     "source_hidden": false
    },
    "nteract": {
     "transient": {
      "deleting": false
     }
    }
   },
   "outputs": [],
   "source": [
    "from azure.ai.ml.entities import AmlCompute\n",
    "\n",
    "my_cluster = AmlCompute(\n",
    "    name=\"cpu-cluster\",\n",
    "    type=\"amlcompute\", \n",
    "    size=\"STANDARD_DS3_V2\", \n",
    "    min_instances=0, \n",
    "    max_instances=4,\n",
    "    location=\"westeurope\", \t\n",
    ")\n",
    "\n",
    "ml_client.compute.begin_create_or_update(my_cluster)\n"
   ]
  },
  {
   "cell_type": "markdown",
   "metadata": {
    "nteract": {
     "transient": {
      "deleting": false
     }
    }
   },
   "source": [
    "## 2. Register Data Asset\n",
    "\n",
    "**Datastore** - Azure Machine Learning Datastores securely keep the connection information to your data storage on Azure, so you don't have to code it in your scripts.\n",
    "\n",
    "An Azure Machine Learning datastore is a **reference** to an **existing** storage account on Azure. The benefits of creating and using a datastore are:\n",
    "A common and easy-to-use API to interact with different storage type. \n",
    "Easier to discover useful datastores when working as a team.\n",
    "When using credential-based access (service principal/SAS/key), the connection information is secured so you don't have to code it in your scripts.\n",
    "\n",
    "Supported Data Resources: \n",
    "\n",
    "* Azure Storage blob container\n",
    "* Azure Storage file share\n",
    "* Azure Data Lake Gen 1\n",
    "* Azure Data Lake Gen 2\n",
    "* Azure SQL Database \n",
    "* Azure PostgreSQL Database\n",
    "* Azure MySQL Database\n",
    "\n",
    "It is not a requirement to use Azure Machine Learning datastores - you can use storage URIs directly assuming you have access to the underlying data.\n",
    "\n",
    "You can create a datastore using the Studio, the cli and the sdk.\n",
    "\n",
    "<hr>\n",
    "\n",
    "We can create a **datastore** with cli v2 or sdk v2 using the following syntax:\n",
    "\n",
    "<center>\n",
    "<img src=\"../../imgs/create_datastore.png\" width = \"700px\" alt=\"Create Compute Instance cli vs sdk\">\n",
    "</center>\n",
    "\n",
    "\n",
    "\n",
    "**Data asset** - Create data assets in your workspace to share with team members, version, and track data lineage.\n",
    "\n",
    "By creating a data asset, you create a reference to the data source location, along with a copy of its metadata. \n",
    "\n",
    "The benefits of creating data assets are:\n",
    "\n",
    "* You can **share and reuse data** with other members of the team such that they do not need to remember file locations.\n",
    "* You can **seamlessly access data** during model training (on any supported compute type) without worrying about connection strings or data paths.\n",
    "* You can **version** the data.\n",
    "\n",
    "<hr>\n",
    "\n",
    "We can create a **data asset** with cli v2 or sdk v2 using the following syntax:\n",
    "\n",
    "<center>\n",
    "<img src=\"../../imgs/create_data_asset.png\" width = \"700px\" alt=\"Create Compute Instance cli vs sdk\">\n",
    "</center>"
   ]
  },
  {
   "cell_type": "code",
   "execution_count": null,
   "metadata": {
    "collapsed": false,
    "gather": {
     "logged": 1668210228966
    },
    "jupyter": {
     "outputs_hidden": false,
     "source_hidden": false
    },
    "nteract": {
     "transient": {
      "deleting": false
     }
    }
   },
   "outputs": [],
   "source": [
    "from azure.ai.ml.entities import Data\n",
    "from azure.ai.ml.constants import AssetTypes\n",
    "\n",
    "my_data = Data(\n",
    "    path=\"../../data/taxi-data.csv\",\n",
    "    type=AssetTypes.URI_FILE,\n",
    "    description=\"Taxi dataset\",\n",
    "    name=\"taxi-data\"\n",
    ")\n",
    "ml_client.data.create_or_update(my_data)"
   ]
  },
  {
   "cell_type": "markdown",
   "metadata": {},
   "source": [
    "## 3. Register Train Environment\n",
    "\n",
    "Azure Machine Learning environments define the execution environments for your **jobs** or **deployments** and encapsulate the dependencies for your code. \n",
    "\n",
    "Azure ML uses the environment specification to create the Docker container that your **training** or **scoring code** runs in on the specified compute target.\n",
    "\n",
    "Create an environment from a\n",
    "* conda specification\n",
    "* Docker image\n",
    "* Docker build context\n",
    "\n",
    "There are two types of environments in Azure ML: **curated** and **custom environments**. Curated environments are predefined environments containing popular ML frameworks and tooling. Custom environments are user-defined.\n",
    "\n",
    "<hr>\n",
    "\n",
    "We can register an **environment** with cli v2 or sdk v2 using the following syntax:\n",
    "\n",
    "<center>\n",
    "<img src=\"../../imgs/create_environment.png\" width = \"700px\" alt=\"Create Compute Cluster cli vs sdk\">\n",
    "</center>"
   ]
  },
  {
   "cell_type": "code",
   "execution_count": null,
   "metadata": {
    "collapsed": false,
    "gather": {
     "logged": 1668210229980
    },
    "jupyter": {
     "outputs_hidden": false,
     "source_hidden": false
    },
    "nteract": {
     "transient": {
      "deleting": false
     }
    }
   },
   "outputs": [],
   "source": [
    "from azure.ai.ml.entities import Environment\n",
    "\n",
    "my_environment = Environment(\n",
    "    image=\"mcr.microsoft.com/azureml/openmpi3.1.2-ubuntu18.04\",\n",
    "    conda_file=\"../../data-science/environment/train-conda.yml\",\n",
    "    name=\"taxi-train-env\",\n",
    "    description=\"Environment created from a Docker image plus Conda environment to train taxi model.\",\n",
    ")\n",
    "\n",
    "ml_client.environments.create_or_update(my_environment)"
   ]
  },
  {
   "cell_type": "markdown",
   "metadata": {
    "nteract": {
     "transient": {
      "deleting": false
     }
    }
   },
   "source": [
    "## 4. Create Pipeline Job\n",
    "\n",
    "**AML Job**:\n",
    "\n",
    "Azure ML provides several ways to train your models, from code-first solutions to low-code solutions:\n",
    "\n",
    "* Azure ML supports script files in python, R, Java, Julia or C#. All you need to learn is YAML format and command lines to use Azure ML.\n",
    "\n",
    "* Distributed Training: AML supports integrations with popular frameworks, PyTorch and TensorFlow. Both frameworks employ data parallelism & model parallelism for distributed training.\n",
    "\n",
    "* Automated ML - Train models without extensive data science or programming knowledge\n",
    "\n",
    "* Designer - drag and drop web-based UI\n",
    "\n",
    "<hr>\n",
    "\n",
    "We can submit a **job** with cli v2 or sdk v2 using the following syntax:\n",
    "\n",
    "<center>\n",
    "<img src=\"../../imgs/create_job.png\" width = \"700px\" alt=\"Create Compute Cluster cli vs sdk\">\n",
    "</center>\n",
    "\n",
    "<br>\n",
    "    \n",
    "**AML Pipelines**:\n",
    "\n",
    "An AML pipeline is an independently executable workflow of a complete machine learning task. It helps standardizing the best practices of producing a machine learning model: The core of a machine learning pipeline is to split a complete machine learning task into a multistep workflow. Each step is a manageable component that can be developed, optimized, configured, and automated individually. \n",
    "\n",
    "<hr>\n",
    "\n",
    "We can submit a **pipeline job** with cli v2 or sdk v2 using the following syntax:\n",
    "\n",
    "<center>\n",
    "<img src=\"../../imgs/create_pipeline.png\" width = \"700px\" alt=\"Create Compute Cluster cli vs sdk\">\n",
    "</center>"
   ]
  },
  {
   "cell_type": "code",
   "execution_count": null,
   "metadata": {
    "collapsed": false,
    "gather": {
     "logged": 1668213857958
    },
    "jupyter": {
     "outputs_hidden": false,
     "source_hidden": false
    },
    "nteract": {
     "transient": {
      "deleting": false
     }
    }
   },
   "outputs": [],
   "source": [
    "from azure.ai.ml.dsl import pipeline\n",
    "from azure.ai.ml import Input, Output, load_component\n",
    "from azure.ai.ml.constants import AssetTypes, InputOutputModes\n",
    "\n",
    "# Create pipeline job\n",
    "parent_dir = \"../../data-science\"\n",
    "\n",
    "# 1. Load components\n",
    "prepare_data = load_component(source=parent_dir + \"/prep.yml\")\n",
    "train_model = load_component(source=parent_dir + \"/train.yml\")\n",
    "evaluate_model = load_component(source=parent_dir + \"/evaluate.yml\")\n",
    "register_model = load_component(source=parent_dir + \"/register.yml\")\n",
    "\n",
    "# 2. Construct pipeline\n",
    "@pipeline()\n",
    "def taxi_training_pipeline(raw_data, enable_monitoring, table_name):\n",
    "    \n",
    "    prepare = prepare_data(\n",
    "        raw_data=raw_data,\n",
    "        enable_monitoring=enable_monitoring, \n",
    "        table_name=table_name\n",
    "    )\n",
    "\n",
    "    train = train_model(\n",
    "        train_data=prepare.outputs.train_data\n",
    "    )\n",
    "\n",
    "    evaluate = evaluate_model(\n",
    "        model_name=\"taxi-model\",\n",
    "        model_input=train.outputs.model_output,\n",
    "        test_data=prepare.outputs.test_data\n",
    "    )\n",
    "\n",
    "\n",
    "    register = register_model(\n",
    "        model_name=\"taxi-model\",\n",
    "        model_path=train.outputs.model_output,\n",
    "        evaluation_output=evaluate.outputs.evaluation_output\n",
    "    )\n",
    "\n",
    "    return {\n",
    "        \"pipeline_job_train_data\": prepare.outputs.train_data,\n",
    "        \"pipeline_job_test_data\": prepare.outputs.test_data,\n",
    "        \"pipeline_job_trained_model\": train.outputs.model_output,\n",
    "        \"pipeline_job_score_report\": evaluate.outputs.evaluation_output,\n",
    "    }\n",
    "\n",
    "\n",
    "pipeline_job = taxi_training_pipeline(\n",
    "    Input(type=AssetTypes.URI_FILE, path=\"taxi-data@latest\"), \"false\", \"taximonitoring\"\n",
    ")\n",
    "\n",
    "# set pipeline level compute\n",
    "pipeline_job.settings.default_compute = \"cpu-cluster\"\n",
    "# set pipeline level datastore\n",
    "pipeline_job.settings.default_datastore = \"workspaceblobstore\""
   ]
  },
  {
   "cell_type": "code",
   "execution_count": null,
   "metadata": {
    "collapsed": false,
    "gather": {
     "logged": 1668213874136
    },
    "jupyter": {
     "outputs_hidden": false,
     "source_hidden": false
    },
    "nteract": {
     "transient": {
      "deleting": false
     }
    }
   },
   "outputs": [],
   "source": [
    "pipeline_job = ml_client.jobs.create_or_update(\n",
    "    pipeline_job, experiment_name=\"pipeline_samples\"\n",
    ")\n",
    "pipeline_job"
   ]
  },
  {
   "cell_type": "markdown",
   "metadata": {
    "nteract": {
     "transient": {
      "deleting": false
     }
    }
   },
   "source": [
    "# Model Online Endpoint"
   ]
  },
  {
   "cell_type": "markdown",
   "metadata": {
    "nteract": {
     "transient": {
      "deleting": false
     }
    }
   },
   "source": [
    "## 1. Create Online Endpoint"
   ]
  },
  {
   "cell_type": "code",
   "execution_count": null,
   "metadata": {
    "collapsed": false,
    "gather": {
     "logged": 1668240520864
    },
    "jupyter": {
     "outputs_hidden": false,
     "source_hidden": false
    },
    "nteract": {
     "transient": {
      "deleting": false
     }
    }
   },
   "outputs": [],
   "source": [
    "from azure.ai.ml.entities import ManagedOnlineEndpoint\n",
    "\n",
    "# create an online endpoint\n",
    "online_endpoint = ManagedOnlineEndpoint(\n",
    "    name=\"taxi-online-endpoint-2\", \n",
    "    description=\"Taxi online endpoint\",\n",
    "    auth_mode=\"key\",\n",
    ")\n",
    "ml_client.online_endpoints.begin_create_or_update(\n",
    "    online_endpoint,   \n",
    ")\n"
   ]
  },
  {
   "cell_type": "markdown",
   "metadata": {},
   "source": [
    "## 2. Create Online Deployment"
   ]
  },
  {
   "cell_type": "code",
   "execution_count": null,
   "metadata": {
    "collapsed": false,
    "gather": {
     "logged": 1668242531868
    },
    "jupyter": {
     "outputs_hidden": false
    },
    "nteract": {
     "transient": {
      "deleting": false
     }
    }
   },
   "outputs": [],
   "source": [
    "# create online deployment\n",
    "from azure.ai.ml.entities import ManagedOnlineDeployment, Model, Environment\n",
    "\n",
    "model = \"taxi-model@latest\"\n",
    "\n",
    "blue_deployment = ManagedOnlineDeployment(\n",
    "    name=\"blue\",\n",
    "    endpoint_name=\"taxi-online-endpoint-2\",\n",
    "    model=model,\n",
    "    instance_type=\"Standard_DS2_v2\",\n",
    "    instance_count=1,\n",
    ")\n",
    "\n",
    "ml_client.online_deployments.begin_create_or_update(\n",
    "    deployment=blue_deployment\n",
    ")\n"
   ]
  },
  {
   "cell_type": "markdown",
   "metadata": {},
   "source": [
    "## 3. Allocate Traffic"
   ]
  },
  {
   "cell_type": "code",
   "execution_count": null,
   "metadata": {
    "gather": {
     "logged": 1668246669855
    }
   },
   "outputs": [],
   "source": [
    "# allocate traffic\n",
    "# blue deployment takes 100 traffic\n",
    "online_endpoint.traffic = {\"blue\": 100}\n",
    "ml_client.begin_create_or_update(online_endpoint)"
   ]
  },
  {
   "cell_type": "markdown",
   "metadata": {},
   "source": [
    "## 4. Invoke and Test Endpoint"
   ]
  },
  {
   "cell_type": "code",
   "execution_count": null,
   "metadata": {
    "gather": {
     "logged": 1668246829854
    }
   },
   "outputs": [],
   "source": [
    "# invoke and test endpoint\n",
    "ml_client.online_endpoints.invoke(\n",
    "    endpoint_name=\"taxi-online-endpoint-2\",\n",
    "    request_file=\"../../data/taxi-request.json\",\n",
    ")\n"
   ]
  },
  {
   "cell_type": "markdown",
   "metadata": {},
   "source": [
    "# Model Batch Endpoint"
   ]
  },
  {
   "cell_type": "markdown",
   "metadata": {},
   "source": [
    "## 1. Create Batch Compute Cluster"
   ]
  },
  {
   "cell_type": "code",
   "execution_count": null,
   "metadata": {
    "gather": {
     "logged": 1668247613855
    }
   },
   "outputs": [],
   "source": [
    "# create compute cluster to be used by batch cluster\n",
    "from azure.ai.ml.entities import AmlCompute\n",
    "\n",
    "my_cluster = AmlCompute(\n",
    "    name=\"batch-cluster\",\n",
    "    type=\"amlcompute\", \n",
    "    size=\"STANDARD_DS3_V2\", \n",
    "    min_instances=0, \n",
    "    max_instances=3,\n",
    "    location=\"westeurope\", \t\n",
    ")\n",
    "ml_client.compute.begin_create_or_update(my_cluster)"
   ]
  },
  {
   "cell_type": "markdown",
   "metadata": {},
   "source": [
    "## 2. Create Batch Endpoint"
   ]
  },
  {
   "cell_type": "code",
   "execution_count": null,
   "metadata": {
    "gather": {
     "logged": 1668247623872
    }
   },
   "outputs": [],
   "source": [
    "# create batch endpoint\n",
    "from azure.ai.ml.entities import BatchEndpoint\n",
    "\n",
    "batch_endpoint = BatchEndpoint(\n",
    "    name=\"taxi-batch-endpoint-2\",\n",
    "    description=\"Taxi batch endpoint\",\n",
    "    tags={\"model\": \"taxi-model@latest\"},\n",
    ")\n",
    "\n",
    "ml_client.begin_create_or_update(batch_endpoint)\n"
   ]
  },
  {
   "cell_type": "markdown",
   "metadata": {},
   "source": [
    "## 3. Create Batch Deployment"
   ]
  },
  {
   "cell_type": "code",
   "execution_count": null,
   "metadata": {
    "gather": {
     "logged": 1668247892781
    }
   },
   "outputs": [],
   "source": [
    "# create batch deployment\n",
    "from azure.ai.ml.entities import BatchDeployment, Model, Environment\n",
    "from azure.ai.ml.constants import BatchDeploymentOutputAction\n",
    "\n",
    "model = \"taxi-model@latest\"\n",
    "\n",
    "batch_deployment = BatchDeployment(\n",
    "    name=\"taxi-batch-dp\",\n",
    "    description=\"this is a sample batch deployment\",\n",
    "    endpoint_name=\"taxi-batch-endpoint-2\",\n",
    "    model=model,\n",
    "    compute=\"batch-cluster\",\n",
    "    instance_count=2,\n",
    "    max_concurrency_per_instance=2,\n",
    "    mini_batch_size=10,\n",
    "    output_action=BatchDeploymentOutputAction.APPEND_ROW,\n",
    "    output_file_name=\"predictions.csv\",\n",
    ")\n",
    "\n",
    "ml_client.begin_create_or_update(batch_deployment)\n"
   ]
  },
  {
   "cell_type": "markdown",
   "metadata": {
    "nteract": {
     "transient": {
      "deleting": false
     }
    }
   },
   "source": [
    "## 5. Set deployment as the default deployment in the endpoint:"
   ]
  },
  {
   "cell_type": "code",
   "execution_count": null,
   "metadata": {
    "collapsed": false,
    "gather": {
     "logged": 1668249096086
    },
    "jupyter": {
     "outputs_hidden": false
    },
    "nteract": {
     "transient": {
      "deleting": false
     }
    }
   },
   "outputs": [],
   "source": [
    "batch_endpoint = ml_client.batch_endpoints.get(\"taxi-batch-endpoint-2\")\n",
    "batch_endpoint.defaults.deployment_name = batch_deployment.name\n",
    "ml_client.batch_endpoints.begin_create_or_update(batch_endpoint)"
   ]
  },
  {
   "cell_type": "markdown",
   "metadata": {},
   "source": [
    "## 4. Invoke and Test Endpoint"
   ]
  },
  {
   "cell_type": "code",
   "execution_count": null,
   "metadata": {
    "gather": {
     "logged": 1668249692548
    }
   },
   "outputs": [],
   "source": [
    "# invoke and test endpoint\n",
    "from azure.ai.ml import Input\n",
    "\n",
    "input = Input(path=\"../../data/taxi-batch.csv\", \n",
    "              type=AssetTypes.URI_FILE, \n",
    "              mode=InputOutputModes.DOWNLOAD)\n",
    "\n",
    "\n",
    "# invoke the endpoint for batch scoring job\n",
    "ml_client.batch_endpoints.invoke(\n",
    "    endpoint_name=\"taxi-batch-endpoint\",\n",
    "    input=input,\n",
    "    deployment_name=\"taxi-batch-dp\"\n",
    ")\n"
   ]
  }
 ],
 "metadata": {
  "kernel_info": {
   "name": "python310-sdkv2"
  },
  "kernelspec": {
   "display_name": "Python 3.10.6 64-bit",
   "language": "python",
   "name": "python3"
  },
  "language_info": {
   "codemirror_mode": {
    "name": "ipython",
    "version": 3
   },
   "file_extension": ".py",
   "mimetype": "text/x-python",
   "name": "python",
   "nbconvert_exporter": "python",
   "pygments_lexer": "ipython3",
   "version": "3.10.6"
  },
  "microsoft": {
   "host": {
    "AzureML": {
     "notebookHasBeenCompleted": true
    }
   }
  },
  "nteract": {
   "version": "nteract-front-end@1.0.0"
  },
  "vscode": {
   "interpreter": {
    "hash": "369f2c481f4da34e4445cda3fffd2e751bd1c4d706f27375911949ba6bb62e1c"
   }
  }
 },
 "nbformat": 4,
 "nbformat_minor": 4
}
